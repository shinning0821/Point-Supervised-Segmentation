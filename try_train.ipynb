{
 "cells": [
  {
   "cell_type": "code",
   "execution_count": 1,
   "metadata": {},
   "outputs": [
    {
     "name": "stderr",
     "output_type": "stream",
     "text": [
      "/home/wzy/.conda/envs/general/lib/python3.7/site-packages/tqdm/auto.py:22: TqdmWarning: IProgress not found. Please update jupyter and ipywidgets. See https://ipywidgets.readthedocs.io/en/stable/user_install.html\n",
      "  from .autonotebook import tqdm as notebook_tqdm\n",
      "/home/wzy/.conda/envs/general/lib/python3.7/importlib/_bootstrap.py:219: RuntimeWarning: compiletime version 3.6 of module '_watershed_cy' does not match runtime version 3.7\n",
      "  return f(*args, **kwds)\n"
     ]
    }
   ],
   "source": [
    "import matplotlib.pyplot as plt\n",
    "from albumentations import Flip, ShiftScaleRotate, RandomRotate90, RandomCrop\n",
    "from src.datasets import HEDataset,ConsepDataset,ConsepDataset_Fast\n",
    "import os \n",
    "os.environ['CUDA_VISIBLE_DEVICES'] = \"5\"\n",
    "os.environ['CUDA_LAUNCH_BLOCKING'] = \"1\"\n"
   ]
  },
  {
   "cell_type": "code",
   "execution_count": 2,
   "metadata": {},
   "outputs": [],
   "source": [
    "from haven import haven_utils as hu\n",
    "ponet_exp_dict ={\n",
    "    \"batch_size\": 1,\n",
    "    \"lr\": 0.001,\n",
    "    \"max_epoch\": 20,\n",
    "    \"model\": {\n",
    "        \"name\": \"ponet\"\n",
    "        \n",
    "    },\n",
    "    \"optimizer\": \"adam\"\n",
    "}\n",
    "\n",
    "hu.save_json(\"exp_config_ponet.json\", ponet_exp_dict)"
   ]
  },
  {
   "cell_type": "code",
   "execution_count": 3,
   "metadata": {},
   "outputs": [],
   "source": [
    "import albumentations as A\n",
    "import random\n"
   ]
  },
  {
   "cell_type": "code",
   "execution_count": 4,
   "metadata": {},
   "outputs": [
    {
     "name": "stdout",
     "output_type": "stream",
     "text": [
      "widgets not available...\n",
      "widgets not available...\n",
      "widgets not available...\n",
      "widgets not available...\n",
      "widgets not available...\n",
      "widgets not available...\n",
      "widgets not available...\n",
      "widgets not available...\n"
     ]
    }
   ],
   "source": [
    "import glob,os\n",
    "from trainval import trainval\n",
    "\n",
    "\n",
    "datadir = './CoNSeP/' \n",
    "exp_dict = hu.load_json('exp_config_ponet.json')\n",
    "\n",
    "exp_dict[\"batch_size\"] = 64\n",
    "exp_dict[\"max_epoch\"] = 100\n",
    "\n",
    "savedir_base = \"./Result\"\n",
    "os.makedirs(savedir_base,exist_ok=True)\n"
   ]
  },
  {
   "cell_type": "code",
   "execution_count": 5,
   "metadata": {},
   "outputs": [],
   "source": [
    "savedir = os.path.join(savedir_base, hu.hash_dict(exp_dict))\n",
    "random_seed = random.randint(0, 20201009)"
   ]
  },
  {
   "cell_type": "code",
   "execution_count": 6,
   "metadata": {},
   "outputs": [
    {
     "name": "stderr",
     "output_type": "stream",
     "text": [
      "/home/wzy/.conda/envs/general/lib/python3.7/site-packages/albumentations/augmentations/blur/transforms.py:185: UserWarning: blur_limit and sigma_limit minimum value can not be both equal to 0. blur_limit minimum value changed to 3.\n",
      "  \"blur_limit and sigma_limit minimum value can not be both equal to 0. \"\n"
     ]
    }
   ],
   "source": [
    "data_transform = A.Compose([A.Flip(p=0.3),\n",
    "                            A.Affine(p=0.3),\n",
    "                            A.Rotate(p=0.3),\n",
    "                            A.HueSaturationValue(hue_shift_limit=10, sat_shift_limit=15, val_shift_limit=10, p=0.3),\n",
    "                            A.GaussianBlur(3, p=0.3),\n",
    "                            A.GaussNoise(30, p=0.3)],\n",
    "                            keypoint_params=A.KeypointParams(format='yx'),\n",
    "                            additional_targets={'mask0': 'mask',\n",
    "                                                'mask1': 'mask',\n",
    "                                                'mask2': 'mask'})"
   ]
  },
  {
   "cell_type": "code",
   "execution_count": 7,
   "metadata": {},
   "outputs": [],
   "source": [
    "MoNuSegdisplay_set = ConsepDataset(data_dir = './CoNSeP',transform=data_transform,option = 'Train')\n",
    "MoNu_0 = MoNuSegdisplay_set[0]\n",
    "# fig,axes = plt.subplots(1,3, figsize=(30,10))\n",
    "\n",
    "# axes[0].imshow(MoNu_0[\"images\"].numpy().transpose(1,2,0))\n",
    "# axes[1].imshow(MoNu_0[\"gt\"].numpy())\n",
    "# axes[2].imshow(MoNu_0[\"points\"].numpy())"
   ]
  },
  {
   "cell_type": "code",
   "execution_count": 8,
   "metadata": {},
   "outputs": [],
   "source": [
    "random_seed = random.randint(0, 20201009)\n",
    "train_set = ConsepDataset_Fast(data_dir=datadir,\n",
    "                            n_classes=1,\n",
    "                            transform=data_transform,\n",
    "                            option=\"Train\",\n",
    "                            random_seed=random_seed,\n",
    "                            obj_option=None,\n",
    "                            patch_size=256,\n",
    "                            bkg_option=None)"
   ]
  },
  {
   "cell_type": "code",
   "execution_count": 9,
   "metadata": {},
   "outputs": [
    {
     "name": "stdout",
     "output_type": "stream",
     "text": [
      "train_10_0_0\n"
     ]
    }
   ],
   "source": [
    "MoNu_0 = train_set[0]\n",
    "# fig,axes = plt.subplots(1,3, figsize=(30,10))\n",
    "\n",
    "# axes[0].imshow(MoNu_0[\"images\"].numpy().transpose(1,2,0))\n",
    "# axes[1].imshow(MoNu_0[\"points\"].numpy())\n",
    "# axes[2].imshow(MoNu_0[\"gt\"].numpy())"
   ]
  },
  {
   "cell_type": "code",
   "execution_count": 10,
   "metadata": {},
   "outputs": [],
   "source": [
    "ponet_exp_dict ={\n",
    "    \"batch_size\": 1,\n",
    "    \"lr\": 0.001,\n",
    "    \"max_epoch\": 20,\n",
    "    \"model\": {\n",
    "        \"name\": \"ponet\"\n",
    "        \n",
    "    },\n",
    "    \"optimizer\": \"adam\",\n",
    "    \"patch_size\":256,\n",
    "    \"obj\":None,   \n",
    "    \"bkg\":None,\n",
    "    \"n_classes\":2\n",
    "}\n",
    "\n",
    "hu.save_json(\"exp_config_ponet.json\", ponet_exp_dict)"
   ]
  },
  {
   "cell_type": "code",
   "execution_count": 11,
   "metadata": {},
   "outputs": [
    {
     "name": "stdout",
     "output_type": "stream",
     "text": [
      "Experiment saved in ./Result/fbebf3cfa39c556e0c722d777a27b96e\n",
      "Starting experiment at epoch 0\n"
     ]
    },
    {
     "name": "stderr",
     "output_type": "stream",
     "text": [
      "  0%|          | 0/13500 [00:00<?, ?it/s]"
     ]
    },
    {
     "name": "stdout",
     "output_type": "stream",
     "text": [
      "train_18_248_496\n",
      "train_3_744_496\n",
      "train_25_0_744train_15_0_0\n",
      "train_15_496_496\n",
      "\n",
      "train_24_248_0train_3_248_0\n",
      "\n",
      "train_14_248_0\n",
      "train_2_248_744train_18_248_248train_23_248_496\n",
      "\n",
      "\n",
      "train_14_248_496\n",
      "train_3_496_744train_22_248_496\n",
      "\n",
      "train_9_496_0\n",
      "train_2_0_0\n",
      "train_21_248_744train_6_744_248\n",
      "\n",
      "train_25_248_248\n",
      "train_22_248_0train_16_496_744\n",
      "\n",
      "train_14_744_248\n",
      "train_6_744_744\n",
      "train_16_496_248\n",
      "train_20_496_744\n",
      "train_9_496_744\n",
      "train_8_496_248train_2_744_0\n",
      "\n",
      "train_11_496_248\n",
      "train_13_248_744\n",
      "train_4_0_496\n",
      "train_10_0_496train_5_248_0train_1_496_248train_2_0_744\n",
      "\n",
      "\n",
      "\n",
      "train_13_0_248\n",
      "train_22_496_496\n",
      "train_18_0_0\n",
      "train_20_0_744\n",
      "train_15_0_248\n",
      "train_19_248_248\n",
      "train_13_744_744\n",
      "train_19_496_496\n",
      "train_26_0_0\n",
      "train_27_248_496\n",
      "train_11_744_248\n",
      "train_5_248_496\n",
      "train_9_496_744\n",
      "train_12_0_248\n",
      "train_25_496_0\n",
      "train_16_248_0train_2_744_496\n",
      "\n",
      "train_9_248_744\n",
      "train_24_744_248\n",
      "train_11_248_496\n",
      "train_13_496_248\n",
      "train_6_0_248\n",
      "train_23_744_248\n",
      "train_7_248_0\n",
      "train_3_0_744\n",
      "train_12_744_0\n",
      "train_26_496_248\n",
      "train_26_496_248train_6_248_744\n",
      "\n",
      "train_7_496_744\n",
      "train_20_0_0\n",
      "train_10_248_248\n",
      "train_19_496_744train_27_248_248\n",
      "\n",
      "train_4_496_0train_12_0_744\n",
      "\n",
      "train_22_248_248train_9_496_0\n",
      "\n",
      "train_19_496_744train_27_248_744train_18_744_496\n",
      "\n",
      "\n",
      "train_22_0_744\n",
      "train_12_496_744\n",
      "train_20_0_248\n",
      "train_16_0_0train_19_744_744\n",
      "train_10_0_0\n",
      "\n",
      "train_10_0_0train_22_744_496\n",
      "\n",
      "train_3_496_744\n",
      "train_19_496_744\n",
      "train_9_0_496\n",
      "train_20_248_496\n",
      "train_21_744_496\n",
      "train_12_496_744\n",
      "train_11_496_0\n",
      "train_6_744_496\n",
      "train_12_0_248\n",
      "train_22_744_0\n",
      "train_11_248_496train_23_744_0\n",
      "\n",
      "train_25_0_744\n",
      "train_13_0_248\n",
      "train_27_0_744\n",
      "train_12_496_0train_26_0_0train_1_248_248\n",
      "\n",
      "\n",
      "train_4_744_0\n",
      "train_13_496_744train_5_0_496\n",
      "\n",
      "train_2_0_248\n",
      "train_13_744_248\n",
      "train_21_248_744\n",
      "train_15_496_496\n",
      "train_3_248_0\n",
      "train_20_496_0\n",
      "train_8_744_0\n",
      "train_12_496_744\n",
      "train_1_0_744\n",
      "train_4_248_496\n",
      "train_6_248_496\n",
      "train_23_0_0\n",
      "train_4_248_248train_6_0_248\n",
      "\n",
      "train_10_744_248\n",
      "train_4_496_248\n",
      "train_13_0_496\n",
      "train_12_744_496train_6_744_248\n",
      "\n",
      "train_25_0_248\n",
      "train_6_0_0\n",
      "train_25_496_0\n",
      "train_5_248_744\n",
      "train_9_744_248\n",
      "train_3_0_496\n",
      "train_6_248_744\n",
      "train_19_248_0train_26_0_496\n",
      "\n",
      "train_16_496_0\n",
      "train_24_744_744\n",
      "train_16_248_0train_23_0_744\n",
      "train_14_0_496\n",
      "\n",
      "train_26_0_496train_14_248_744train_27_248_496\n",
      "train_22_248_744\n",
      "\n",
      "\n",
      "train_17_248_744\n",
      "train_15_496_0\n",
      "train_18_496_0\n",
      "train_6_248_248\n",
      "train_25_0_744\n",
      "train_19_496_496train_24_744_0train_5_248_744\n",
      "\n",
      "\n",
      "train_20_248_496\n",
      "train_11_0_744\n",
      "train_8_496_248\n",
      "train_3_248_744train_3_0_496\n",
      "\n",
      "train_1_0_0\n",
      "train_27_0_248\n",
      "train_23_248_0\n",
      "train_26_496_496\n",
      "train_26_0_248train_25_0_0\n",
      "\n",
      "train_22_248_248\n",
      "train_15_248_496train_14_496_744\n",
      "\n",
      "train_24_248_248\n",
      "train_8_0_248train_20_744_496\n",
      "\n",
      "train_11_0_744train_26_0_248train_24_0_744\n",
      "\n",
      "\n",
      "train_16_0_744\n",
      "train_4_0_744train_11_496_496\n",
      "\n",
      "train_14_744_0\n",
      "train_23_496_496\n",
      "train_24_248_248\n",
      "train_8_744_248\n",
      "train_22_0_248\n",
      "train_5_0_744\n",
      "train_17_0_496\n",
      "train_1_0_744\n",
      "train_8_248_744\n",
      "train_16_744_0\n",
      "train_23_248_744train_17_0_744\n",
      "\n",
      "train_20_0_0\n",
      "train_6_744_744\n",
      "train_11_248_744\n",
      "train_23_248_248\n",
      "train_7_0_496train_15_0_744\n",
      "train_7_496_744\n",
      "\n",
      "train_17_744_0\n",
      "train_1_0_248\n",
      "train_16_248_248\n",
      "train_17_496_248\n",
      "train_3_744_744\n",
      "train_2_0_496\n",
      "train_17_0_248\n",
      "train_6_496_248\n",
      "train_18_248_744\n",
      "train_23_744_744train_26_744_744\n",
      "\n",
      "train_17_744_744\n",
      "train_17_496_496\n",
      "train_23_744_744train_23_496_248\n",
      "\n",
      "train_18_496_248\n",
      "train_12_496_744train_12_744_248\n",
      "train_27_248_496\n",
      "\n",
      "train_19_0_496\n",
      "train_2_0_0\n",
      "train_9_744_744\n",
      "train_23_496_496\n",
      "train_13_496_744\n",
      "train_12_744_0\n",
      "train_23_248_0\n",
      "train_21_248_248\n",
      "train_4_744_0\n",
      "train_4_248_0train_3_744_496\n",
      "\n",
      "train_25_496_744\n",
      "train_8_248_496\n",
      "train_3_248_0train_13_496_496\n",
      "train_22_744_496\n",
      "\n",
      "train_15_744_0train_12_248_496\n",
      "\n",
      "train_15_248_744\n",
      "train_6_744_744\n",
      "train_24_0_744\n",
      "train_19_248_496train_24_496_744\n",
      "\n",
      "train_17_744_0\n",
      "train_7_248_496\n",
      "train_3_496_0\n",
      "train_1_248_744\n",
      "train_17_248_496\n",
      "train_1_744_0\n",
      "train_19_248_0\n",
      "train_11_0_0\n",
      "train_23_744_248\n",
      "train_27_0_496\n",
      "train_10_248_248\n",
      "train_8_0_744\n",
      "train_25_744_0\n",
      "train_7_496_496\n",
      "train_5_496_496\n",
      "train_14_248_496\n",
      "train_5_248_496\n",
      "train_22_744_0\n",
      "train_25_0_0\n",
      "train_13_0_0\n",
      "train_20_744_744\n",
      "train_5_744_496\n",
      "train_16_0_496\n",
      "train_21_744_0\n",
      "train_6_248_496\n"
     ]
    },
    {
     "name": "stderr",
     "output_type": "stream",
     "text": [
      "Training Loss: -218.2911:   0%|          | 1/13500 [00:02<7:49:13,  2.09s/it]"
     ]
    },
    {
     "name": "stdout",
     "output_type": "stream",
     "text": [
      "train_18_744_248\n",
      "train_19_496_744\n",
      "train_26_0_496\n",
      "train_23_248_744\n",
      "train_6_248_248\n",
      "train_6_744_496\n",
      "train_18_744_248\n",
      "train_14_496_0\n",
      "train_4_496_744\n",
      "train_12_744_0\n",
      "train_15_744_744\n",
      "train_24_0_0train_8_496_744\n",
      "\n",
      "train_20_248_248\n",
      "train_11_0_496\n",
      "train_11_744_0\n",
      "train_8_744_0\n",
      "train_26_0_0\n",
      "train_23_744_0\n",
      "train_4_0_744\n",
      "train_17_744_0\n",
      "train_25_0_248\n",
      "train_12_744_0\n",
      "train_25_496_496\n",
      "train_21_496_496\n",
      "train_15_744_248\n",
      "train_21_744_0\n",
      "train_7_248_744\n"
     ]
    },
    {
     "name": "stderr",
     "output_type": "stream",
     "text": [
      "Training Loss: -1121.9614:   0%|          | 2/13500 [00:02<3:54:21,  1.04s/it]"
     ]
    },
    {
     "name": "stdout",
     "output_type": "stream",
     "text": [
      "train_15_744_0\n",
      "train_8_0_0\n",
      "train_20_0_0\n",
      "train_21_496_496\n",
      "train_4_744_0\n",
      "train_22_248_0\n",
      "train_25_248_496\n",
      "train_8_496_744\n",
      "train_12_0_744\n",
      "train_5_496_496\n",
      "train_25_496_0\n",
      "train_15_0_0\n",
      "train_10_744_0\n",
      "train_12_0_744\n"
     ]
    },
    {
     "name": "stderr",
     "output_type": "stream",
     "text": [
      "Training Loss: -1503.8665:   0%|          | 3/13500 [00:02<2:43:17,  1.38it/s]"
     ]
    },
    {
     "name": "stdout",
     "output_type": "stream",
     "text": [
      "train_4_744_744\n",
      "train_22_248_744\n",
      "train_20_0_496\n",
      "train_18_248_0\n",
      "train_7_0_744\n",
      "train_14_248_744\n",
      "train_24_248_248\n",
      "train_12_0_248\n",
      "train_20_0_496\n",
      "train_23_496_496\n",
      "train_8_248_0\n",
      "train_9_744_744\n",
      "train_13_496_744\n",
      "train_19_248_0\n",
      "train_13_744_744\n",
      "train_18_496_0\n",
      "train_1_496_496\n",
      "train_20_248_248\n"
     ]
    },
    {
     "name": "stderr",
     "output_type": "stream",
     "text": [
      "Training Loss: -1800.7505:   0%|          | 4/13500 [00:03<2:06:02,  1.78it/s]"
     ]
    },
    {
     "name": "stdout",
     "output_type": "stream",
     "text": [
      "train_20_496_248\n",
      "train_14_0_744\n",
      "train_8_0_248\n",
      "train_2_496_0\n",
      "train_21_744_0\n",
      "train_1_496_744\n",
      "train_26_744_744\n",
      "train_20_248_0\n",
      "train_25_0_744\n",
      "train_23_496_496\n",
      "train_16_744_0\n",
      "train_5_496_744\n",
      "train_25_248_744\n"
     ]
    },
    {
     "name": "stderr",
     "output_type": "stream",
     "text": [
      "Training Loss: -1929.1220:   0%|          | 5/13500 [00:03<1:43:19,  2.18it/s]"
     ]
    },
    {
     "name": "stdout",
     "output_type": "stream",
     "text": [
      "train_1_744_0\n",
      "train_23_248_0\n",
      "train_22_248_744\n",
      "train_17_744_496\n",
      "train_3_248_0\n",
      "train_20_744_496\n",
      "train_16_496_744\n",
      "train_11_496_744\n",
      "train_8_248_744\n",
      "train_18_744_0\n",
      "train_16_0_0\n",
      "train_24_744_248\n",
      "train_25_0_744\n",
      "train_23_744_744\n",
      "train_17_248_248\n"
     ]
    },
    {
     "name": "stderr",
     "output_type": "stream",
     "text": [
      "Training Loss: -2049.5563:   0%|          | 6/13500 [00:03<1:28:45,  2.53it/s]"
     ]
    },
    {
     "name": "stdout",
     "output_type": "stream",
     "text": [
      "train_15_0_0\n",
      "train_15_496_744\n",
      "train_16_0_0\n",
      "train_21_744_248\n",
      "train_3_496_496\n",
      "train_19_0_744\n",
      "train_22_248_744\n",
      "train_16_744_744\n",
      "train_27_496_0\n",
      "train_8_248_744\n",
      "train_12_496_0\n",
      "train_27_0_496\n",
      "train_26_744_496\n",
      "train_17_0_744\n",
      "train_21_248_248\n",
      "train_18_248_0\n",
      "train_22_496_0\n"
     ]
    },
    {
     "name": "stderr",
     "output_type": "stream",
     "text": [
      "Training Loss: -2132.8722:   0%|          | 7/13500 [00:03<1:20:58,  2.78it/s]"
     ]
    },
    {
     "name": "stdout",
     "output_type": "stream",
     "text": [
      "train_23_496_496\n",
      "train_25_744_496\n",
      "train_2_744_496\n",
      "train_11_744_0\n",
      "train_3_744_744\n",
      "train_12_496_248\n",
      "train_21_496_0\n",
      "train_21_0_0\n",
      "train_16_248_0\n",
      "train_18_496_0\n",
      "train_26_744_496\n",
      "train_15_496_0\n",
      "train_20_744_0\n",
      "train_16_248_0\n",
      "train_22_248_248\n",
      "train_4_248_0\n",
      "train_17_744_744\n",
      "train_8_248_744\n",
      "train_13_248_496\n",
      "train_17_0_0\n"
     ]
    },
    {
     "ename": "KeyboardInterrupt",
     "evalue": "",
     "output_type": "error",
     "traceback": [
      "\u001b[0;31m---------------------------------------------------------------------------\u001b[0m",
      "\u001b[0;31mKeyboardInterrupt\u001b[0m                         Traceback (most recent call last)",
      "\u001b[0;32m/tmp/ipykernel_57983/334552560.py\u001b[0m in \u001b[0;36m<module>\u001b[0;34m\u001b[0m\n\u001b[1;32m     28\u001b[0m \u001b[0msavedir_base\u001b[0m \u001b[0;34m=\u001b[0m \u001b[0;34m\"./Result\"\u001b[0m\u001b[0;34m\u001b[0m\u001b[0m\n\u001b[1;32m     29\u001b[0m \u001b[0mos\u001b[0m\u001b[0;34m.\u001b[0m\u001b[0mmakedirs\u001b[0m\u001b[0;34m(\u001b[0m\u001b[0msavedir_base\u001b[0m\u001b[0;34m,\u001b[0m\u001b[0mexist_ok\u001b[0m\u001b[0;34m=\u001b[0m\u001b[0;32mTrue\u001b[0m\u001b[0;34m)\u001b[0m\u001b[0;34m\u001b[0m\u001b[0m\n\u001b[0;32m---> 30\u001b[0;31m \u001b[0mtrainval\u001b[0m\u001b[0;34m(\u001b[0m\u001b[0mexp_dict\u001b[0m\u001b[0;34m,\u001b[0m \u001b[0msavedir_base\u001b[0m\u001b[0;34m,\u001b[0m \u001b[0mdatadir\u001b[0m\u001b[0;34m,\u001b[0m \u001b[0mreset\u001b[0m\u001b[0;34m=\u001b[0m\u001b[0;32mFalse\u001b[0m\u001b[0;34m,\u001b[0m \u001b[0mnum_workers\u001b[0m\u001b[0;34m=\u001b[0m\u001b[0;36m8\u001b[0m\u001b[0;34m)\u001b[0m\u001b[0;34m\u001b[0m\u001b[0m\n\u001b[0m",
      "\u001b[0;32m/data114_1/wzy/MICCAI23/Point-Supervised-Segmentation/trainval.py\u001b[0m in \u001b[0;36mtrainval\u001b[0;34m(exp_dict, savedir_base, datadir, reset, num_workers)\u001b[0m\n\u001b[1;32m    127\u001b[0m \u001b[0;34m\u001b[0m\u001b[0m\n\u001b[1;32m    128\u001b[0m         \u001b[0;31m# Train the model\u001b[0m\u001b[0;34m\u001b[0m\u001b[0;34m\u001b[0m\u001b[0m\n\u001b[0;32m--> 129\u001b[0;31m         \u001b[0mtrain_dict\u001b[0m \u001b[0;34m=\u001b[0m \u001b[0mmodel\u001b[0m\u001b[0;34m.\u001b[0m\u001b[0mtrain_on_loader\u001b[0m\u001b[0;34m(\u001b[0m\u001b[0mtrain_loader\u001b[0m\u001b[0;34m)\u001b[0m\u001b[0;34m\u001b[0m\u001b[0m\n\u001b[0m\u001b[1;32m    130\u001b[0m \u001b[0;34m\u001b[0m\u001b[0m\n\u001b[1;32m    131\u001b[0m         \u001b[0;31m# Validate and Visualize the model\u001b[0m\u001b[0;34m\u001b[0m\u001b[0;34m\u001b[0m\u001b[0m\n",
      "\u001b[0;32m/data114_1/wzy/MICCAI23/Point-Supervised-Segmentation/src/models/PONet.py\u001b[0m in \u001b[0;36mtrain_on_loader\u001b[0;34m(self, train_loader)\u001b[0m\n\u001b[1;32m     98\u001b[0m         \u001b[0mpbar\u001b[0m \u001b[0;34m=\u001b[0m \u001b[0mtqdm\u001b[0m\u001b[0;34m.\u001b[0m\u001b[0mtqdm\u001b[0m\u001b[0;34m(\u001b[0m\u001b[0mtotal\u001b[0m\u001b[0;34m=\u001b[0m\u001b[0mn_batches\u001b[0m\u001b[0;34m)\u001b[0m\u001b[0;34m\u001b[0m\u001b[0m\n\u001b[1;32m     99\u001b[0m         \u001b[0;32mfor\u001b[0m \u001b[0mbatch\u001b[0m \u001b[0;32min\u001b[0m \u001b[0mtrain_loader\u001b[0m\u001b[0;34m:\u001b[0m\u001b[0;34m\u001b[0m\u001b[0m\n\u001b[0;32m--> 100\u001b[0;31m             \u001b[0mscore_dict\u001b[0m \u001b[0;34m=\u001b[0m \u001b[0mself\u001b[0m\u001b[0;34m.\u001b[0m\u001b[0mtrain_on_batch\u001b[0m\u001b[0;34m(\u001b[0m\u001b[0mbatch\u001b[0m\u001b[0;34m)\u001b[0m\u001b[0;34m\u001b[0m\u001b[0m\n\u001b[0m\u001b[1;32m    101\u001b[0m             \u001b[0mtrain_meter\u001b[0m\u001b[0;34m.\u001b[0m\u001b[0madd\u001b[0m\u001b[0;34m(\u001b[0m\u001b[0mscore_dict\u001b[0m\u001b[0;34m[\u001b[0m\u001b[0;34m'train_loss'\u001b[0m\u001b[0;34m]\u001b[0m\u001b[0;34m,\u001b[0m \u001b[0;36m1\u001b[0m\u001b[0;34m)\u001b[0m\u001b[0;34m\u001b[0m\u001b[0m\n\u001b[1;32m    102\u001b[0m \u001b[0;34m\u001b[0m\u001b[0m\n",
      "\u001b[0;32m/data114_1/wzy/MICCAI23/Point-Supervised-Segmentation/src/models/PONet.py\u001b[0m in \u001b[0;36mtrain_on_batch\u001b[0;34m(self, batch, **extras)\u001b[0m\n\u001b[1;32m    175\u001b[0m             \u001b[0mself\u001b[0m\u001b[0;34m.\u001b[0m\u001b[0mlam_obj\u001b[0m \u001b[0;34m*\u001b[0m \u001b[0mlcfcn_loss\u001b[0m\u001b[0;34m.\u001b[0m\u001b[0mcompute_obj_loss\u001b[0m\u001b[0;34m(\u001b[0m\u001b[0mlogits\u001b[0m\u001b[0;34m,\u001b[0m \u001b[0mobjs\u001b[0m\u001b[0;34m,\u001b[0m \u001b[0mregions\u001b[0m\u001b[0;34m)\u001b[0m\u001b[0;34m\u001b[0m\u001b[0m\n\u001b[1;32m    176\u001b[0m \u001b[0;34m\u001b[0m\u001b[0m\n\u001b[0;32m--> 177\u001b[0;31m         \u001b[0mloss\u001b[0m\u001b[0;34m.\u001b[0m\u001b[0mbackward\u001b[0m\u001b[0;34m(\u001b[0m\u001b[0;34m)\u001b[0m\u001b[0;34m\u001b[0m\u001b[0m\n\u001b[0m\u001b[1;32m    178\u001b[0m \u001b[0;34m\u001b[0m\u001b[0m\n\u001b[1;32m    179\u001b[0m         \u001b[0mself\u001b[0m\u001b[0;34m.\u001b[0m\u001b[0mopt\u001b[0m\u001b[0;34m.\u001b[0m\u001b[0mstep\u001b[0m\u001b[0;34m(\u001b[0m\u001b[0;34m)\u001b[0m\u001b[0;34m\u001b[0m\u001b[0m\n",
      "\u001b[0;32m~/.conda/envs/general/lib/python3.7/site-packages/torch/_tensor.py\u001b[0m in \u001b[0;36mbackward\u001b[0;34m(self, gradient, retain_graph, create_graph, inputs)\u001b[0m\n\u001b[1;32m    305\u001b[0m                 \u001b[0mcreate_graph\u001b[0m\u001b[0;34m=\u001b[0m\u001b[0mcreate_graph\u001b[0m\u001b[0;34m,\u001b[0m\u001b[0;34m\u001b[0m\u001b[0m\n\u001b[1;32m    306\u001b[0m                 inputs=inputs)\n\u001b[0;32m--> 307\u001b[0;31m         \u001b[0mtorch\u001b[0m\u001b[0;34m.\u001b[0m\u001b[0mautograd\u001b[0m\u001b[0;34m.\u001b[0m\u001b[0mbackward\u001b[0m\u001b[0;34m(\u001b[0m\u001b[0mself\u001b[0m\u001b[0;34m,\u001b[0m \u001b[0mgradient\u001b[0m\u001b[0;34m,\u001b[0m \u001b[0mretain_graph\u001b[0m\u001b[0;34m,\u001b[0m \u001b[0mcreate_graph\u001b[0m\u001b[0;34m,\u001b[0m \u001b[0minputs\u001b[0m\u001b[0;34m=\u001b[0m\u001b[0minputs\u001b[0m\u001b[0;34m)\u001b[0m\u001b[0;34m\u001b[0m\u001b[0m\n\u001b[0m\u001b[1;32m    308\u001b[0m \u001b[0;34m\u001b[0m\u001b[0m\n\u001b[1;32m    309\u001b[0m     \u001b[0;32mdef\u001b[0m \u001b[0mregister_hook\u001b[0m\u001b[0;34m(\u001b[0m\u001b[0mself\u001b[0m\u001b[0;34m,\u001b[0m \u001b[0mhook\u001b[0m\u001b[0;34m)\u001b[0m\u001b[0;34m:\u001b[0m\u001b[0;34m\u001b[0m\u001b[0m\n",
      "\u001b[0;32m~/.conda/envs/general/lib/python3.7/site-packages/torch/autograd/__init__.py\u001b[0m in \u001b[0;36mbackward\u001b[0;34m(tensors, grad_tensors, retain_graph, create_graph, grad_variables, inputs)\u001b[0m\n\u001b[1;32m    154\u001b[0m     Variable._execution_engine.run_backward(\n\u001b[1;32m    155\u001b[0m         \u001b[0mtensors\u001b[0m\u001b[0;34m,\u001b[0m \u001b[0mgrad_tensors_\u001b[0m\u001b[0;34m,\u001b[0m \u001b[0mretain_graph\u001b[0m\u001b[0;34m,\u001b[0m \u001b[0mcreate_graph\u001b[0m\u001b[0;34m,\u001b[0m \u001b[0minputs\u001b[0m\u001b[0;34m,\u001b[0m\u001b[0;34m\u001b[0m\u001b[0m\n\u001b[0;32m--> 156\u001b[0;31m         allow_unreachable=True, accumulate_grad=True)  # allow_unreachable flag\n\u001b[0m\u001b[1;32m    157\u001b[0m \u001b[0;34m\u001b[0m\u001b[0m\n\u001b[1;32m    158\u001b[0m \u001b[0;34m\u001b[0m\u001b[0m\n",
      "\u001b[0;31mKeyboardInterrupt\u001b[0m: "
     ]
    }
   ],
   "source": [
    "import glob,os\n",
    "from trainval import trainval\n",
    "import matplotlib.pyplot as plt\n",
    "%matplotlib inline\n",
    "# Define the dataset you want to train on, you can type 'TNBC' or 'MoNuSegTrainingData'\n",
    "datadir = './CoNSeP/' \n",
    "\n",
    "# the exp_dict is the configuration of the model which has already been saved. \n",
    "# It consists of the initial learning rate, max epoch, model name and optimizer\n",
    "# The saved one looks like this\n",
    "# {\n",
    "#     \"batch_size\": 1,\n",
    "#     \"lr\": 0.001,\n",
    "#     \"max_epoch\": 20,\n",
    "#     \"model\": {\n",
    "#         \"name\": \"penet\"\n",
    "#     },\n",
    "#     \"optimizer\": \"adam\"\n",
    "# }\n",
    "exp_dict = hu.load_json('Experiment_Exp/exp_config_mynet_1.json')\n",
    "exp_dict[\"batch_size\"] = 16\n",
    "exp_dict[\"max_epoch\"] = 10\n",
    "# folddir_10 = glob.glob(os.path.join(datadir, '*_fold'))\n",
    "\n",
    "# for folddir in folddir_10:\n",
    "#     savedir_base = os.path.join(folddir,'Result')\n",
    "#     os.makedirs(savedir_base,exist_ok=True)\n",
    "savedir_base = \"./Result\"\n",
    "os.makedirs(savedir_base,exist_ok=True)\n",
    "trainval(exp_dict, savedir_base, datadir, reset=False, num_workers=8)"
   ]
  },
  {
   "cell_type": "code",
   "execution_count": null,
   "metadata": {},
   "outputs": [
    {
     "name": "stderr",
     "output_type": "stream",
     "text": [
      "/home/wzy/.conda/envs/general/lib/python3.7/site-packages/tqdm/auto.py:22: TqdmWarning: IProgress not found. Please update jupyter and ipywidgets. See https://ipywidgets.readthedocs.io/en/stable/user_install.html\n",
      "  from .autonotebook import tqdm as notebook_tqdm\n"
     ]
    },
    {
     "name": "stdout",
     "output_type": "stream",
     "text": [
      "1.10.1+cu111\n",
      "True\n"
     ]
    }
   ],
   "source": [
    "import torch\n",
    "print(torch.__version__)\n",
    "print(torch.cuda.is_available())"
   ]
  }
 ],
 "metadata": {
  "kernelspec": {
   "display_name": "Python 3.7.0 ('general')",
   "language": "python",
   "name": "python3"
  },
  "language_info": {
   "codemirror_mode": {
    "name": "ipython",
    "version": 3
   },
   "file_extension": ".py",
   "mimetype": "text/x-python",
   "name": "python",
   "nbconvert_exporter": "python",
   "pygments_lexer": "ipython3",
   "version": "3.7.0"
  },
  "orig_nbformat": 4,
  "vscode": {
   "interpreter": {
    "hash": "a71cc4314146b0e933944bc0f68d974dbf6df44331e2b71acc3dc305d8c9a61e"
   }
  }
 },
 "nbformat": 4,
 "nbformat_minor": 2
}
